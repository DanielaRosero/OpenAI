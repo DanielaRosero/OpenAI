{
 "cells": [
  {
   "cell_type": "code",
   "execution_count": 1,
   "metadata": {},
   "outputs": [
    {
     "name": "stderr",
     "output_type": "stream",
     "text": [
      "C:\\Users\\danyr\\AppData\\Local\\Packages\\PythonSoftwareFoundation.Python.3.10_qbz5n2kfra8p0\\LocalCache\\local-packages\\Python310\\site-packages\\tqdm\\auto.py:21: TqdmWarning: IProgress not found. Please update jupyter and ipywidgets. See https://ipywidgets.readthedocs.io/en/stable/user_install.html\n",
      "  from .autonotebook import tqdm as notebook_tqdm\n"
     ]
    },
    {
     "name": "stdout",
     "output_type": "stream",
     "text": [
      "Running on local URL:  http://127.0.0.1:7860\n",
      "\n",
      "To create a public link, set `share=True` in `launch()`.\n"
     ]
    },
    {
     "data": {
      "text/html": [
       "<div><iframe src=\"http://127.0.0.1:7860/\" width=\"100%\" height=\"500\" allow=\"autoplay; camera; microphone; clipboard-read; clipboard-write;\" frameborder=\"0\" allowfullscreen></iframe></div>"
      ],
      "text/plain": [
       "<IPython.core.display.HTML object>"
      ]
     },
     "metadata": {},
     "output_type": "display_data"
    },
    {
     "data": {
      "text/plain": []
     },
     "execution_count": 1,
     "metadata": {},
     "output_type": "execute_result"
    }
   ],
   "source": [
    "# Importing required libraries\n",
    "import openai\n",
    "import gradio as gr\n",
    "\n",
    "# Setting the API key\n",
    "openai.api_key = \"your_password\"\n",
    "\n",
    "def ai_tool(prompt, behavior):\n",
    "    # Forming the messages\n",
    "    messages = [\n",
    "        {\"role\": \"system\", \"content\": f\"Eres un asistente experto en {behavior}\"},\n",
    "        {\"role\": \"user\", \"content\": prompt},\n",
    "    ]\n",
    "    \n",
    "    # Creating Chat completion\n",
    "    chat_response = openai.chat.completions.create(\n",
    "        model=\"gpt-4\",   # Changed model name to the correct one\n",
    "        messages=messages,\n",
    "        temperature=0.6,\n",
    "        max_tokens=1000,\n",
    "        frequency_penalty=0.0\n",
    "    )\n",
    "    \n",
    "    # Extracting chat message\n",
    "    chat_message = chat_response.choices[0].message\n",
    "    \n",
    "    return chat_message\n",
    "\n",
    "# Creating the input fields\n",
    "inputs = [\n",
    "    gr.Textbox(label=\"Comportamiento\", placeholder=\"¿Cómo quieres que actúe el asistente...?\"),\n",
    "    gr.Textbox(lines=7, label=\"Entrada\", placeholder=\"¿Qué quieres preguntarle al asistente?\")\n",
    "]\n",
    "\n",
    "# Creating the output field\n",
    "outputs = gr.Textbox(label=\"Respuesta del Chat\")\n",
    "\n",
    "# Setting the title of the interface\n",
    "title = \"Mi asistente virtual de Upgrade-Hub\"\n",
    "\n",
    "iface = gr.Interface(\n",
    "    fn=ai_tool, \n",
    "    inputs=inputs, \n",
    "    outputs=outputs, \n",
    "    title=title, \n",
    "    theme = \"Soft\",\n",
    "    description=\"Este es un prototipo de asistente\"\n",
    ")\n",
    "\n",
    "iface.launch(share=False)"
   ]
  }
 ],
 "metadata": {
  "kernelspec": {
   "display_name": "entorno_upgrade",
   "language": "python",
   "name": "python3"
  },
  "language_info": {
   "codemirror_mode": {
    "name": "ipython",
    "version": 3
   },
   "file_extension": ".py",
   "mimetype": "text/x-python",
   "name": "python",
   "nbconvert_exporter": "python",
   "pygments_lexer": "ipython3",
   "version": "3.10.11"
  }
 },
 "nbformat": 4,
 "nbformat_minor": 2
}
